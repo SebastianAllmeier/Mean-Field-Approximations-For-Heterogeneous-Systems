{
 "cells": [
  {
   "cell_type": "code",
   "execution_count": 1,
   "metadata": {},
   "outputs": [
    {
     "name": "stdout",
     "output_type": "stream",
     "text": [
      "['C:\\\\Users\\\\Basti\\\\PhD\\\\cachingsimulationadaptation\\\\notebooks\\\\Simulations', 'c:\\\\users\\\\basti\\\\appdata\\\\local\\\\programs\\\\python\\\\python38\\\\python38.zip', 'c:\\\\users\\\\basti\\\\appdata\\\\local\\\\programs\\\\python\\\\python38\\\\DLLs', 'c:\\\\users\\\\basti\\\\appdata\\\\local\\\\programs\\\\python\\\\python38\\\\lib', 'c:\\\\users\\\\basti\\\\appdata\\\\local\\\\programs\\\\python\\\\python38', '', 'c:\\\\users\\\\basti\\\\appdata\\\\local\\\\programs\\\\python\\\\python38\\\\lib\\\\site-packages', 'c:\\\\users\\\\basti\\\\appdata\\\\local\\\\programs\\\\python\\\\python38\\\\lib\\\\site-packages\\\\win32', 'c:\\\\users\\\\basti\\\\appdata\\\\local\\\\programs\\\\python\\\\python38\\\\lib\\\\site-packages\\\\win32\\\\lib', 'c:\\\\users\\\\basti\\\\appdata\\\\local\\\\programs\\\\python\\\\python38\\\\lib\\\\site-packages\\\\Pythonwin', 'c:\\\\users\\\\basti\\\\appdata\\\\local\\\\programs\\\\python\\\\python38\\\\lib\\\\site-packages\\\\IPython\\\\extensions', 'C:\\\\Users\\\\Basti\\\\.ipython', '../../', 'C:\\\\Users\\\\Basti\\\\PhD\\\\cachingsimulationadaptation\\\\notebooks\\\\Simulations\\\\..\\\\..\\\\']\n"
     ]
    }
   ],
   "source": [
    "import sys\n",
    "sys.path.append('../../')\n",
    "import sys, os\n",
    "current_dir = os.path.dirname(os.path.abspath(\"__file__\"))\n",
    "# print(current_dir)\n",
    "sys.path.append(os.path.join(current_dir, '..\\\\..\\\\'))\n",
    "print(sys.path)\n",
    "import os\n",
    "from simulationFunctions.save_load_simulations import load_simulations\n",
    "\n",
    "from simulationFunctions.master_load_function import gather_simulations"
   ]
  },
  {
   "cell_type": "markdown",
   "metadata": {},
   "source": [
    "# Available Simulation Configurations\n",
    "\n",
    "| Nr. Simulations (total)      | Nr. Items     | Alpha     | Cache Sizes | Sim. time |\n",
    "| :--------------------------- | :------------ | :-------- | :---------- | :-------- |\n",
    "| 2000                         | 20            | 0.8       | [5, 3]      | 200       |\n",
    "| 2000                         | 20            | 0.8       | [5, 3, 2]   | 200       |\n",
    "| 2000                         | 20            | 1.0       | [5, 3]      | 200       |\n",
    "| 2000                         | 20            | 1.0       | [5, 3, 2]   | 200       |\n",
    "| 2000                         | 20            | 1.2       | [5, 3]      | 200       |\n",
    "| 2000                         | 20            | 1.2       | [5, 3, 2]   | 200       |\n",
    "| -                            | -             | -         | -           | -         |\n",
    "| 1000                         | 50            | 0.8       | [10,10, 5]  | 200       |\n",
    "| 1000                         | 50            | 0.8       | [15, 5, 5]  | 200       |\n",
    "| 1000                         | 50            | 1.0       | [10,10, 5]  | 200       |\n",
    "| 1000                         | 50            | 1.0       | [15, 5, 5]  | 200       |\n",
    "| 1000                         | 50            | 1.2       | [10,10, 5]  | 200       |\n",
    "| 1000                         | 50            | 1.2       | [15, 5, 5]  | 200       |\n",
    "| -                            | -             | -         | -           | -         |\n",
    "| 500                          | 75            | 0.8       | [20,10,10]  | 200       |\n",
    "| 500                          | 75            | 0.8       | [15, 5, 5]  | 200       |\n",
    "| 500                          | 75            | 1.0       | [20,10,10]  | 200       |\n",
    "| 500                          | 75            | 1.0       | [15, 5, 5]  | 200       |\n",
    "| 500                          | 75            | 1.2       | [20,10,10]  | 200       |\n",
    "| 500                          | 75            | 1.2       | [15, 5, 5]  | 200       |\n",
    "| -                            | -             | -         | -           | -         |\n",
    "| 500                          | 100           | 0.8       | -           | 200       |\n",
    "| 500                          | 100           | 0.8       | -           | 200       |\n"
   ]
  },
  {
   "cell_type": "code",
   "execution_count": 2,
   "metadata": {},
   "outputs": [
    {
     "ename": "FileNotFoundError",
     "evalue": "[WinError 3] Das System kann den angegebenen Pfad nicht finden: 'C:\\\\Users\\\\Basti\\\\PhD\\\\cachingsimulationadaptation\\\\notebooks\\\\Simulations\\\\../notebooks/Simulations/cache'",
     "output_type": "error",
     "traceback": [
      "\u001b[1;31m---------------------------------------------------------------------------\u001b[0m",
      "\u001b[1;31mFileNotFoundError\u001b[0m                         Traceback (most recent call last)",
      "\u001b[1;32m<ipython-input-2-709a3c146691>\u001b[0m in \u001b[0;36m<module>\u001b[1;34m\u001b[0m\n\u001b[0;32m      1\u001b[0m \u001b[1;31m# show all available simulation options\u001b[0m\u001b[1;33m\u001b[0m\u001b[1;33m\u001b[0m\u001b[1;33m\u001b[0m\u001b[0m\n\u001b[1;32m----> 2\u001b[1;33m \u001b[0m_\u001b[0m \u001b[1;33m=\u001b[0m \u001b[0mgather_simulations\u001b[0m\u001b[1;33m(\u001b[0m\u001b[0mnr_items\u001b[0m\u001b[1;33m=\u001b[0m\u001b[1;32mNone\u001b[0m\u001b[1;33m,\u001b[0m \u001b[0mzipf_alpha\u001b[0m\u001b[1;33m=\u001b[0m\u001b[1;32mNone\u001b[0m\u001b[1;33m,\u001b[0m \u001b[0mcache_sizes\u001b[0m\u001b[1;33m=\u001b[0m\u001b[1;32mNone\u001b[0m\u001b[1;33m,\u001b[0m \u001b[0moutput\u001b[0m\u001b[1;33m=\u001b[0m\u001b[1;32mTrue\u001b[0m\u001b[1;33m)\u001b[0m\u001b[1;33m\u001b[0m\u001b[1;33m\u001b[0m\u001b[0m\n\u001b[0m",
      "\u001b[1;32m~\\PhD\\cachingsimulationadaptation\\simulationFunctions\\master_load_function.py\u001b[0m in \u001b[0;36mgather_simulations\u001b[1;34m(nr_items, zipf_alpha, cache_sizes, output, cache_path)\u001b[0m\n\u001b[0;32m     26\u001b[0m     \u001b[0mfile_nr\u001b[0m \u001b[1;33m=\u001b[0m \u001b[1;36m0\u001b[0m\u001b[1;33m\u001b[0m\u001b[1;33m\u001b[0m\u001b[0m\n\u001b[0;32m     27\u001b[0m     \u001b[1;32mif\u001b[0m \u001b[0mcache_path\u001b[0m \u001b[1;32mis\u001b[0m \u001b[1;32mNone\u001b[0m\u001b[1;33m:\u001b[0m\u001b[1;33m\u001b[0m\u001b[1;33m\u001b[0m\u001b[0m\n\u001b[1;32m---> 28\u001b[1;33m         \u001b[1;32mfor\u001b[0m \u001b[0mfilename\u001b[0m \u001b[1;32min\u001b[0m \u001b[0mos\u001b[0m\u001b[1;33m.\u001b[0m\u001b[0mlistdir\u001b[0m\u001b[1;33m(\u001b[0m\u001b[0mos\u001b[0m\u001b[1;33m.\u001b[0m\u001b[0mpath\u001b[0m\u001b[1;33m.\u001b[0m\u001b[0mjoin\u001b[0m\u001b[1;33m(\u001b[0m\u001b[0mos\u001b[0m\u001b[1;33m.\u001b[0m\u001b[0mgetcwd\u001b[0m\u001b[1;33m(\u001b[0m\u001b[1;33m)\u001b[0m\u001b[1;33m,\u001b[0m \u001b[1;34m\"../notebooks/Simulations/cache\"\u001b[0m\u001b[1;33m)\u001b[0m\u001b[1;33m)\u001b[0m\u001b[1;33m:\u001b[0m\u001b[1;33m\u001b[0m\u001b[1;33m\u001b[0m\u001b[0m\n\u001b[0m\u001b[0;32m     29\u001b[0m             \u001b[1;32mtry\u001b[0m\u001b[1;33m:\u001b[0m\u001b[1;33m\u001b[0m\u001b[1;33m\u001b[0m\u001b[0m\n\u001b[0;32m     30\u001b[0m                 \u001b[0ma\u001b[0m\u001b[1;33m,\u001b[0m \u001b[0msim_information\u001b[0m \u001b[1;33m=\u001b[0m \u001b[0mload_simulations\u001b[0m\u001b[1;33m(\u001b[0m\u001b[1;34m\"cache/\"\u001b[0m \u001b[1;33m+\u001b[0m \u001b[0mfilename\u001b[0m\u001b[1;33m,\u001b[0m \u001b[0moutput\u001b[0m\u001b[1;33m=\u001b[0m\u001b[1;32mFalse\u001b[0m\u001b[1;33m)\u001b[0m\u001b[1;33m\u001b[0m\u001b[1;33m\u001b[0m\u001b[0m\n",
      "\u001b[1;31mFileNotFoundError\u001b[0m: [WinError 3] Das System kann den angegebenen Pfad nicht finden: 'C:\\\\Users\\\\Basti\\\\PhD\\\\cachingsimulationadaptation\\\\notebooks\\\\Simulations\\\\../notebooks/Simulations/cache'"
     ]
    }
   ],
   "source": [
    "# show all available simulation options\n",
    "_ = gather_simulations(nr_items=None, zipf_alpha=None, cache_sizes=None, output=True)\n"
   ]
  },
  {
   "cell_type": "code",
   "execution_count": 1,
   "metadata": {},
   "outputs": [
    {
     "ename": "NameError",
     "evalue": "name 'gather_simulations' is not defined",
     "output_type": "error",
     "traceback": [
      "\u001b[1;31m---------------------------------------------------------------------------\u001b[0m",
      "\u001b[1;31mNameError\u001b[0m                                 Traceback (most recent call last)",
      "\u001b[1;32m<ipython-input-1-a6c8b54ce534>\u001b[0m in \u001b[0;36m<module>\u001b[1;34m\u001b[0m\n\u001b[0;32m      1\u001b[0m \u001b[1;31m# Get files for the corresponding configurations\u001b[0m\u001b[1;33m\u001b[0m\u001b[1;33m\u001b[0m\u001b[1;33m\u001b[0m\u001b[0m\n\u001b[1;32m----> 2\u001b[1;33m \u001b[0mfilelist\u001b[0m \u001b[1;33m=\u001b[0m \u001b[0mgather_simulations\u001b[0m\u001b[1;33m(\u001b[0m\u001b[0mnr_items\u001b[0m\u001b[1;33m=\u001b[0m\u001b[1;36m20\u001b[0m\u001b[1;33m,\u001b[0m \u001b[0mzipf_alpha\u001b[0m\u001b[1;33m=\u001b[0m\u001b[1;36m0.8\u001b[0m\u001b[1;33m,\u001b[0m \u001b[0mcache_sizes\u001b[0m\u001b[1;33m=\u001b[0m\u001b[1;33m[\u001b[0m\u001b[1;36m5\u001b[0m\u001b[1;33m,\u001b[0m \u001b[1;36m3\u001b[0m\u001b[1;33m,\u001b[0m \u001b[1;36m2\u001b[0m\u001b[1;33m]\u001b[0m\u001b[1;33m)\u001b[0m\u001b[1;33m\u001b[0m\u001b[1;33m\u001b[0m\u001b[0m\n\u001b[0m\u001b[0;32m      3\u001b[0m \u001b[0mprint\u001b[0m\u001b[1;33m(\u001b[0m\u001b[0mfilelist\u001b[0m\u001b[1;33m)\u001b[0m\u001b[1;33m\u001b[0m\u001b[1;33m\u001b[0m\u001b[0m\n",
      "\u001b[1;31mNameError\u001b[0m: name 'gather_simulations' is not defined"
     ]
    }
   ],
   "source": [
    "# Get files for the corresponding configurations\n",
    "filelist = gather_simulations(nr_items=20, zipf_alpha=0.8, cache_sizes=[5, 3, 2])\n",
    "print(filelist)"
   ]
  },
  {
   "cell_type": "code",
   "execution_count": null,
   "metadata": {},
   "outputs": [],
   "source": []
  }
 ],
 "metadata": {
  "kernelspec": {
   "display_name": "Python 3",
   "language": "python",
   "name": "python3"
  },
  "language_info": {
   "codemirror_mode": {
    "name": "ipython",
    "version": 3
   },
   "file_extension": ".py",
   "mimetype": "text/x-python",
   "name": "python",
   "nbconvert_exporter": "python",
   "pygments_lexer": "ipython3",
   "version": "3.8.8"
  }
 },
 "nbformat": 4,
 "nbformat_minor": 2
}
