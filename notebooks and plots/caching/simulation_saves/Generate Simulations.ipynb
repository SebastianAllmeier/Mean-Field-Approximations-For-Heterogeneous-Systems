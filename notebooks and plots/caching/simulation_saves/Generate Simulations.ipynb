{
 "cells": [
  {
   "cell_type": "markdown",
   "metadata": {},
   "source": [
    "# Generate and Save Simulations for the RandCacheExample"
   ]
  },
  {
   "cell_type": "markdown",
   "metadata": {},
   "source": []
  },
  {
   "cell_type": "code",
   "execution_count": 1,
   "metadata": {},
   "outputs": [],
   "source": [
    "# import functions and modules\n",
    "## add repository path to importable files\n",
    "import sys, os\n",
    "current_dir = os.path.dirname(os.path.abspath(\"__file__\"))\n",
    "# print(current_dir)\n",
    "sys.path.append(os.path.join(current_dir, '..\\\\..\\\\'))\n",
    "## import functions for batch simulation\n",
    "import simulationFunctions\n",
    "from simulationFunctions.save_load_simulations import run_and_save_simulations\n"
   ]
  },
  {
   "cell_type": "markdown",
   "metadata": {},
   "source": [
    "Brief explanaition and expected input for the run_and_save_simulations function."
   ]
  },
  {
   "cell_type": "code",
   "execution_count": 2,
   "metadata": {},
   "outputs": [
    {
     "name": "stdout",
     "output_type": "stream",
     "text": [
      "\n",
      "    This function runs and saves simulationFunctions of the RandCache model with adjustable parameters.\n",
      "    The simulationFunctions are stored in a h5 file. The file stores the initial parameters and each individual simulationFunctions\n",
      "    with corresponding seed.\n",
      "\n",
      "    The simulationFunctions will be saved in 'cache/'. The folder has to be created manually.\n",
      "\n",
      "    Expected parameters\n",
      "    :param nr_simulations:  [Int] Number of Simulations that should be run.\n",
      "    :param nr_items:        [Int] Number of items in the model.\n",
      "    :param zipf_alpha:      [Float] \u0007lpha for the used Zipf distribution.\n",
      "    :param cache_sizes:     [(Int) Array] Array of cache sizes\n",
      "    :param simulation_time: [Float] max. time frame for simulationFunctions\n",
      "    :param extra_id:        [String] (optional) Some additional identifier [string]\n",
      "\n",
      "    :return: None\n",
      "    \n"
     ]
    }
   ],
   "source": [
    "print(run_and_save_simulations.__doc__)"
   ]
  },
  {
   "cell_type": "code",
   "execution_count": 7,
   "metadata": {},
   "outputs": [],
   "source": [
    "# specify whether to run one or multible simulation batches\n",
    "single_simulation_batch = True\n",
    "multiple_simluation_batches = False\n",
    "\n",
    "if single_simulation_batch:\n",
    "    # specify parameteres\n",
    "    nr_simulations = 2000\n",
    "    nr_items = 10\n",
    "    zipf_alpha = 0.8\n",
    "    cache_sizes = [4]\n",
    "    simulation_time = 80.\n",
    "\n",
    "if multiple_simluation_batches:\n",
    "    nr_simulations = 1500\n",
    "    nr_items =  35\n",
    "    zipf_alphas = [0.6, 0.8, 1.0]\n",
    "    cache_sizes_dict = {'cache1': [10,3,2], 'cache2': [5, 5, 5], 'cache3': [5, 5]}\n",
    "    simulation_time = 200."
   ]
  },
  {
   "cell_type": "code",
   "execution_count": 8,
   "metadata": {},
   "outputs": [
    {
     "name": "stdout",
     "output_type": "stream",
     "text": [
      "Initializing Model\n",
      "Parameters:\n",
      "\tNr. Simulations: 2000\n",
      "\tNr. Items: 10\n",
      "\tZipf Alpha: 0.8\n",
      "\tCache Size: [4]\n",
      "\tSimulations time: 80.0\n",
      "Running Simulations\n",
      "\t- 100 simulationFunctions done.\n",
      "\t- 200 simulationFunctions done.\n",
      "\t- 300 simulationFunctions done.\n",
      "\t- 400 simulationFunctions done.\n",
      "\t- 500 simulationFunctions done.\n",
      "\t- 600 simulationFunctions done.\n",
      "\t- 700 simulationFunctions done.\n",
      "\t- 800 simulationFunctions done.\n",
      "\t- 900 simulationFunctions done.\n",
      "\t- 1000 simulationFunctions done.\n",
      "\t- 1100 simulationFunctions done.\n",
      "\t- 1200 simulationFunctions done.\n",
      "\t- 1300 simulationFunctions done.\n",
      "\t- 1400 simulationFunctions done.\n",
      "\t- 1500 simulationFunctions done.\n",
      "\t- 1600 simulationFunctions done.\n",
      "\t- 1700 simulationFunctions done.\n",
      "\t- 1800 simulationFunctions done.\n",
      "\t- 1900 simulationFunctions done.\n",
      "Simulations have been saved to cache/nr_simulations-2000_nr_items-10_alpha-0.8_simulation_time-80.0_2021-06-11_13-58-00.h5 .\n"
     ]
    }
   ],
   "source": [
    "if single_simulation_batch:\n",
    "    # run one simulation batch\n",
    "    run_and_save_simulations(nr_simulations, nr_items, zipf_alpha, cache_sizes, simulation_time)\n",
    "elif multiple_simluation_batches:\n",
    "    # run multible simulation batchse with different parameters\n",
    "    for _zipf_alpha in zipf_alphas:\n",
    "        for _cache_sizes in cache_sizes_dict.values():\n",
    "            run_and_save_simulations(nr_simulations, nr_items, _zipf_alpha, _cache_sizes, simulation_time)"
   ]
  },
  {
   "cell_type": "markdown",
   "metadata": {},
   "source": [
    "Simulations and their configurations\n",
    "\n",
    "| Nr. Simulations (total)      | Nr. Items     | Alpha     | Cache Sizes | Sim. time |\n",
    "| :--------------------------- | :------------ | :-------- | :---------- | :-------- |\n",
    "| 2000                         | 20            | 0.8       | [5, 3]      | 200       |\n",
    "| 2000                         | 20            | 0.8       | [5, 3, 2]   | 200       |\n",
    "| 2000                         | 20            | 1.0       | [5, 3]      | 200       |\n",
    "| 2000                         | 20            | 1.0       | [5, 3, 2]   | 200       |\n",
    "| 2000                         | 20            | 1.2       | [5, 3]      | 200       |\n",
    "| 2000                         | 20            | 1.2       | [5, 3, 2]   | 200       |\n",
    "| -                            | -             | -         | -           | -         |\n",
    "| 1000                         | 50            | 0.8       | [10,10, 5]  | 200       |\n",
    "| 1000                         | 50            | 0.8       | [15, 5, 5]  | 200       |\n",
    "| 1000                         | 50            | 1.0       | [10,10, 5]  | 200       |\n",
    "| 1000                         | 50            | 1.0       | [15, 5, 5]  | 200       |\n",
    "| 1000                         | 50            | 1.2       | [10,10, 5]  | 200       |\n",
    "| 1000                         | 50            | 1.2       | [15, 5, 5]  | 200       |\n",
    "| -                            | -             | -         | -           | -         |\n",
    "| 500                          | 75            | 0.8       | [20,10,10]  | 200       |\n",
    "| 500                          | 75            | 0.8       | [15, 5, 5]  | 200       |\n",
    "| 500                          | 75            | 1.0       | [20,10,10]  | 200       |\n",
    "| 500                          | 75            | 1.0       | [15, 5, 5]  | 200       |\n",
    "| 500                          | 75            | 1.2       | [20,10,10]  | 200       |\n",
    "| 500                          | 75            | 1.2       | [15, 5, 5]  | 200       |\n",
    "| -                            | -             | -         | -           | -         |\n",
    "| 500                          | 100           | 0.8       | [20,10,10]  | 200       |\n",
    "| 500                          | 100           | 0.8       | [25,15,15]  | 200       |\n",
    "| 500                          | 100           | 1.0       | [20,10,10]  | 200       |\n",
    "| 500                          | 100           | 1.0       | [25,15,15]  | 200       |\n"
   ]
  },
  {
   "cell_type": "code",
   "execution_count": null,
   "metadata": {},
   "outputs": [],
   "source": [
    "from simulations.run_save_Simulations import load_simulations\n",
    "a, _ = load_simulations(\"cache/nr_simulations-300_nr_items-100_alpha-0.8_simulation_time-200.0_2020-11-16_12-32-01.h5\", output=True)\n",
    "a.close()"
   ]
  },
  {
   "cell_type": "code",
   "execution_count": null,
   "metadata": {},
   "outputs": [],
   "source": []
  }
 ],
 "metadata": {
  "kernelspec": {
   "display_name": "Python 3",
   "language": "python",
   "name": "python3"
  },
  "language_info": {
   "codemirror_mode": {
    "name": "ipython",
    "version": 3
   },
   "file_extension": ".py",
   "mimetype": "text/x-python",
   "name": "python",
   "nbconvert_exporter": "python",
   "pygments_lexer": "ipython3",
   "version": "3.8.8"
  }
 },
 "nbformat": 4,
 "nbformat_minor": 2
}
